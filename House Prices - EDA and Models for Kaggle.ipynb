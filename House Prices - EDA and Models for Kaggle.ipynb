{
 "cells": [
  {
   "cell_type": "markdown",
   "metadata": {},
   "source": [
    "## Download the data:"
   ]
  },
  {
   "cell_type": "code",
   "execution_count": null,
   "metadata": {},
   "outputs": [],
   "source": [
    "!kaggle competitions download -c house-prices-advanced-regression-techniques"
   ]
  },
  {
   "cell_type": "code",
   "execution_count": null,
   "metadata": {},
   "outputs": [],
   "source": [
    "!mkdir data\n",
    "!unzip house-prices-advanced-regression-techniques.zip -d data"
   ]
  },
  {
   "cell_type": "markdown",
   "metadata": {},
   "source": [
    "## Setup"
   ]
  },
  {
   "cell_type": "code",
   "execution_count": null,
   "metadata": {},
   "outputs": [],
   "source": [
    "import pandas as pd\n",
    "import numpy as np\n",
    "import matplotlib.pyplot as plt\n",
    "import seaborn as sns\n",
    "from scipy.stats import norm\n",
    "from scipy import stats\n",
    "from datetime import datetime\n",
    "from scipy.stats import pearsonr\n",
    "from sklearn.preprocessing import LabelEncoder\n",
    "\n",
    "\n",
    "# Since the dataset has a large number of features, it's best to let Pandas display all the columns of the dataframe\n",
    "pd.options.display.max_columns = None\n",
    "# Turn off Future Warnings \n",
    "import warnings\n",
    "warnings.simplefilter(action='ignore', category=FutureWarning)"
   ]
  },
  {
   "cell_type": "markdown",
   "metadata": {},
   "source": [
    "## Read the data"
   ]
  },
  {
   "cell_type": "code",
   "execution_count": null,
   "metadata": {},
   "outputs": [],
   "source": [
    "# Read the training data\n",
    "train_df = pd.read_csv(\"data/train.csv\")\n",
    "# Read the test data\n",
    "test_df = pd.read_csv(\"data/test.csv\")\n",
    "train_df.head()"
   ]
  },
  {
   "cell_type": "markdown",
   "metadata": {},
   "source": [
    "## Reading the description file provided by Kaggle.\n",
    "\n",
    "Since our datasets came with a description file, it's best to review that quickly and get a sense of the features. This will help guide the analysis. "
   ]
  },
  {
   "cell_type": "code",
   "execution_count": null,
   "metadata": {},
   "outputs": [],
   "source": [
    "desc = open(\"data/data_description.txt\")\n",
    "txt = desc.read()\n",
    "print(txt)\n",
    "desc.close()"
   ]
  },
  {
   "cell_type": "code",
   "execution_count": null,
   "metadata": {},
   "outputs": [],
   "source": [
    "# Saving the the ID column for both train and test\n",
    "train_Id = train_df['Id']\n",
    "test_Id = test_df['Id']"
   ]
  },
  {
   "cell_type": "code",
   "execution_count": null,
   "metadata": {},
   "outputs": [],
   "source": [
    "print(\"There are {} rows in the training dataframe\".format(train_df.shape[0]))\n",
    "print(\"There are {} features in the training dataframe\".format(train_df.shape[-1]))\n",
    "print(\"There are {} rows in the testing dataframe\".format(test_df.shape[0]))"
   ]
  },
  {
   "cell_type": "code",
   "execution_count": null,
   "metadata": {},
   "outputs": [],
   "source": [
    "train_df.describe()"
   ]
  },
  {
   "cell_type": "code",
   "execution_count": null,
   "metadata": {},
   "outputs": [],
   "source": [
    "train_df.info()"
   ]
  },
  {
   "cell_type": "markdown",
   "metadata": {},
   "source": [
    "#### Quantatitive Variables: "
   ]
  },
  {
   "cell_type": "code",
   "execution_count": null,
   "metadata": {},
   "outputs": [],
   "source": [
    "quant_feat = list(train_df.dtypes[train_df.dtypes != \"object\"].index)\n",
    "quant_feat"
   ]
  },
  {
   "cell_type": "markdown",
   "metadata": {},
   "source": [
    "#### Qualatative Variables: "
   ]
  },
  {
   "cell_type": "code",
   "execution_count": null,
   "metadata": {},
   "outputs": [],
   "source": [
    "qual_feat = list(train_df.dtypes[train_df.dtypes == \"object\"].index)\n",
    "qual_feat"
   ]
  },
  {
   "cell_type": "markdown",
   "metadata": {},
   "source": [
    "### Target Variable: \n",
    "In this section, I am creating a helper function that will help visualize the distribution of features. "
   ]
  },
  {
   "cell_type": "code",
   "execution_count": null,
   "metadata": {},
   "outputs": [],
   "source": [
    "def draw_distribution(df, col, **options):\n",
    "    \"\"\"\n",
    "    This function helps draw a distribution plot for the desired colum.\n",
    "    Input args: \n",
    "    1. df : Dataframe that we want to pick the column from. \n",
    "    2. col : Column of the dataframe that we want to display.\n",
    "    3. options:\n",
    "        a. kde : optional, boolian - Whether to plot a gaussian kernel density estimate.\n",
    "        b. fit : An object with `fit` method, returning a tuple that can be passed to a `pdf` method a \n",
    "        positional arguments following a grid of values to evaluate the pdf on.\n",
    "    \"\"\"\n",
    "    plt.figure(figsize=(12,10))\n",
    "    plt.ylabel(\"Frequency\")\n",
    "    plt.title(\"{} Distribution\".format(col))\n",
    "    if options.get(\"kde\")==True:\n",
    "        sns.distplot(df[col], kde=True, color=\"#2b7bba\");\n",
    "    if options.get(\"fit\")== \"norm\":\n",
    "        (mu, sigma) = norm.fit(df[col])\n",
    "        sns.distplot(df[col], fit=norm, color=\"#2b7bba\");\n",
    "        plt.legend([\"Normal dist. ($\\mu=$ {:.2f} and $\\sigma=$ {:.2f} )\".format(mu, sigma)],\n",
    "                  loc='best');\n",
    "        \n",
    "    if (options.get(\"fit\")== \"norm\") & (options.get(\"kde\")==True):\n",
    "        sns.distplot(df[col], fit=norm, kde=True, color=\"#2b7bba\");\n",
    "    else:\n",
    "        sns.distplot(df[col], color=\"#2b7bba\");"
   ]
  },
  {
   "cell_type": "code",
   "execution_count": null,
   "metadata": {},
   "outputs": [],
   "source": [
    "# Let's plot a distribution plot for the target variable column and see how the prices are distributed. \n",
    "draw_distribution(train_df, \"SalePrice\", kde=True)"
   ]
  },
  {
   "cell_type": "code",
   "execution_count": null,
   "metadata": {},
   "outputs": [],
   "source": [
    "draw_distribution(train_df, \"SalePrice\",fit=\"norm\", kde=True)"
   ]
  },
  {
   "cell_type": "code",
   "execution_count": null,
   "metadata": {},
   "outputs": [],
   "source": [
    "## QQ Plot\n",
    "fig  = plt.figure(figsize=(12,10))\n",
    "stats.probplot(train_df[\"SalePrice\"], plot=plt)\n",
    "plt.show();"
   ]
  },
  {
   "cell_type": "markdown",
   "metadata": {},
   "source": [
    "We can see that the prices are slightly skewed to the right and centered $200,000. Let's run a descriptive statistics on our target variable."
   ]
  },
  {
   "cell_type": "code",
   "execution_count": null,
   "metadata": {},
   "outputs": [],
   "source": [
    "train_df[\"SalePrice\"].describe()"
   ]
  },
  {
   "cell_type": "markdown",
   "metadata": {},
   "source": [
    "As we can see, most of the house prices are below the 75 percentile. One way to fix this by using a logarithmic scale."
   ]
  },
  {
   "cell_type": "markdown",
   "metadata": {},
   "source": [
    "#### Log Transformation of the target variable"
   ]
  },
  {
   "cell_type": "code",
   "execution_count": null,
   "metadata": {},
   "outputs": [],
   "source": [
    "df_scaled = train_df.copy()\n",
    "#I am usin log1p  function from np which  applies log(1+x) to all elements of the column\n",
    "df_scaled[\"SalePrice\"] =  np.log1p(train_df[\"SalePrice\"])"
   ]
  },
  {
   "cell_type": "code",
   "execution_count": null,
   "metadata": {},
   "outputs": [],
   "source": [
    "# Plotting the \n",
    "draw_distribution(df_scaled, \"SalePrice\",fit=\"norm\", kde=True)"
   ]
  },
  {
   "cell_type": "code",
   "execution_count": null,
   "metadata": {},
   "outputs": [],
   "source": [
    "## QQ Plot\n",
    "fig  = plt.figure(figsize=(12,10))\n",
    "stats.probplot(df_scaled[\"SalePrice\"], plot=plt)\n",
    "plt.show();"
   ]
  },
  {
   "cell_type": "markdown",
   "metadata": {},
   "source": [
    "### Missing Values:\n",
    "In this section, I am going to look into the missing values and come up with the strategies that could help fix those. It's recommended to see if the missing values are random or they an underlying pattern."
   ]
  },
  {
   "cell_type": "code",
   "execution_count": null,
   "metadata": {},
   "outputs": [],
   "source": [
    "# Counting the missing values per feature and picking the top 25\n",
    "missing_values = df_scaled.isnull().sum().sort_values(ascending=False)[:25]\n",
    "# Calculating the missing ratio and picking the top 25\n",
    "ratio = ((df_scaled.isnull().sum()/df_scaled.isnull().count())*100).sort_values(ascending=False)[:25]\n",
    "missing_data = pd.concat([missing_values, ratio], axis=1, keys=['Total Missing', 'Percent'])\n",
    "missing_data.head(20)"
   ]
  },
  {
   "cell_type": "markdown",
   "metadata": {},
   "source": [
    "Let's visualize these for better understanding; "
   ]
  },
  {
   "cell_type": "code",
   "execution_count": null,
   "metadata": {},
   "outputs": [],
   "source": [
    "f, ax = plt.subplots(figsize=(12, 10))\n",
    "plt.title(\"Missing values Ratio per Feature\")\n",
    "plt.xlabel(\"Features\")\n",
    "plt.ylabel(\"Percent of missing values\")\n",
    "plt.xticks(rotation='90')\n",
    "sns.barplot(x=missing_data.index, y=ratio);"
   ]
  },
  {
   "cell_type": "code",
   "execution_count": null,
   "metadata": {},
   "outputs": [],
   "source": [
    "def transform_1_impute_missing(df):\n",
    "    # Per the data description, the NA in the PoolQC column means the house did not have a pool. We can impute that with \"None\"\n",
    "    df[\"PoolQC\"] = df[\"PoolQC\"].fillna(\"None\")\n",
    "    # MiscFeature. The description says that NA means No Misc Feature\n",
    "    df[\"MiscFeature\"] = df[\"MiscFeature\"].fillna(\"None\")\n",
    "    # Alley\n",
    "    df[\"Alley\"] = df[\"Alley\"].fillna(\"None\")\n",
    "    # Fence\n",
    "    df[\"Fence\"] = df[\"Fence\"].fillna(\"None\")\n",
    "    # FireplaceQu\n",
    "    df[\"FireplaceQu\"] = df[\"FireplaceQu\"].fillna(\"None\")\n",
    "    # LotFrontage: For this we cannot use None. Everyhouse \"should\" have front in the use. \n",
    "    # Since houses are most probably similar in each neighborhoods, we can impute the missing values by the median of each \n",
    "    # neighborhood. \n",
    "    df[\"LotFrontage\"] = df.groupby(\"Neighborhood\")[\"LotFrontage\"].transform(lambda x:\n",
    "                                                                            x.fillna(x.median()))\n",
    "    # GarageCond, GarageType, GarageYrBlt\n",
    "    df[[\"GarageCond\", \"GarageType\", \"GarageQual\", \"GarageFinish\"]] = df[[\"GarageCond\",\n",
    "                                                                         \"GarageType\", \n",
    "                                                                         \"GarageQual\",\n",
    "                                                                         \"GarageFinish\"]].fillna(\"None\")\n",
    "    # We will impute the following with 0 since they are quntatitive. \n",
    "    df[[\"GarageArea\", \"GarageCars\", \"GarageYrBlt\"]] = df[[\"GarageArea\",\n",
    "                                                          \"GarageCars\", \n",
    "                                                          \"GarageYrBlt\"]].fillna(0)\n",
    "\n",
    "    # The following numerical features are related to baseemnt and we can replace NaNs with 0 since \n",
    "    # NaN means zero basement\n",
    "    for col in (\"BsmtFinSF1\", \"BsmtFinSF2\", \"BsmtUnfSF\",\"TotalBsmtSF\", \"BsmtFullBath\", \"BsmtHalfBath\"):\n",
    "        df[col] = df[col].fillna(0)\n",
    "    # The following categorical features are related to basement and we can replace the NAs with Non since NaN mean \n",
    "    # no basement\n",
    "    for col in (\"BsmtQual\", \"BsmtCond\", \"BsmtExposure\", \"BsmtFinType1\", \"BsmtFinType2\"):\n",
    "        df[col] = df[col].fillna(\"None\")\n",
    "    #  MasVnrType: to None\n",
    "    df[\"MasVnrType\"] = df[\"MasVnrType\"].fillna(\"None\")\n",
    "    # MasVnrType to 0   : Having NaN in the Veneer area means 0 veneer\n",
    "    df[\"MasVnrArea\"] = df[\"MasVnrArea\"].fillna(0)\n",
    "    # MSZonming: After looking at the zoning informationk, we can see that \"RL\" is the most common value. \n",
    "    # We can use that to impute The missing zones. \n",
    "    df[\"MSZoning\"] = df[\"MSZoning\"].fillna(df[\"MSZoning\"].mode()[0])\n",
    "    # Exterior1st: Impute with most common value:\n",
    "    df[\"Exterior1st\"] = df[\"Exterior1st\"].fillna(df[\"Exterior1st\"].mode()[0])\n",
    "    # Exteriror2nd: Impute with most common value:\n",
    "    df[\"Exterior2nd\"] = df[\"Exterior2nd\"].fillna(df[\"Exterior2nd\"].mode()[0])\n",
    "    # Utilities : Since most of the values in the dataframe for Utilities is \"AllPub\", we can drop \n",
    "    # this feature without affecting our model. We will drop it later in the feature engineering phase\n",
    "    # Fucntional: NA means typical\n",
    "    df[\"Functional\"] = df[\"Functional\"].fillna(\"Typ\")\n",
    "    # Electrical : We can impute this with the most common value which is \"SBrkr\"\n",
    "    df[\"Electrical\"] = df[\"Electrical\"].fillna(df[\"Electrical\"].mode()[0])\n",
    "    # Kitchen Qual : we can impute this with the most common value which is \"TA\"\n",
    "    df[\"KitchenQual\"] = df[\"KitchenQual\"].fillna(df[\"KitchenQual\"].mode()[0])\n",
    "    # MSSubClass : Impute with None\n",
    "    df[\"MSSubClass\"] = df[\"MSSubClass\"].fillna(\"None\")\n",
    "    # SaleType: Impute with the most common value which is \"WD\"\n",
    "    df[\"SaleType\"] = df[\"SaleType\"].fillna(df[\"SaleType\"].mode()[0])\n",
    "\n",
    "    return df"
   ]
  },
  {
   "cell_type": "code",
   "execution_count": null,
   "metadata": {},
   "outputs": [],
   "source": [
    "df_scaled = transform_1_impute_missing(df_scaled)"
   ]
  },
  {
   "cell_type": "code",
   "execution_count": null,
   "metadata": {},
   "outputs": [],
   "source": [
    "# Double check to make sure all the missing values are imputed: \n",
    "# Counting the missing values per feature and picking the top 25\n",
    "missing_values = df_scaled.isnull().sum().sort_values(ascending=False)[:25]\n",
    "# Calculating the missing ratio and picking the top 25\n",
    "ratio = ((df_scaled.isnull().sum()/df_scaled.isnull().count())*100).sort_values(ascending=False)[:25]\n",
    "missing_data = pd.concat([missing_values, ratio], axis=1, keys=['Total Missing', 'Percent'])\n",
    "missing_data.head(5)"
   ]
  },
  {
   "cell_type": "markdown",
   "metadata": {},
   "source": [
    "## Correlation"
   ]
  },
  {
   "cell_type": "code",
   "execution_count": null,
   "metadata": {},
   "outputs": [],
   "source": [
    "#Using Pearson Correlation\n",
    "#plt.figure(figsize=(12,10))\n",
    "# Calculate the correlation on the entire dataframe\n",
    "cor = df_scaled.corr()\n",
    "# Create a mask to hight the cells above the diagonal line. \n",
    "mask = np.triu(np.ones_like(cor, dtype=bool))\n",
    "# Setting up the figure\n",
    "f, ax = plt.subplots(figsize=(14, 12))\n",
    "# Create a custom color pallete\n",
    "cmap = cmap = sns.cm.vlag_r\n",
    "# Draw the heatmap with the mask. \n",
    "sns.heatmap(cor, annot=False, mask=mask, square=True, linewidths=.4, \n",
    "            vmax=1, center=0, cmap=cmap);\n",
    "plt.show();"
   ]
  },
  {
   "cell_type": "markdown",
   "metadata": {},
   "source": [
    "As we can see from the heatmap above, we could see multicollinearity among features. For example, there is avery high correlation between GarageYrBlt and YearBuilt, or GarageCars and GarageArea. "
   ]
  },
  {
   "cell_type": "markdown",
   "metadata": {},
   "source": [
    "In the following section, I want to define a function that helps us narrow down our heatmap to the top n highly correlated variables that we want to display. "
   ]
  },
  {
   "cell_type": "code",
   "execution_count": null,
   "metadata": {},
   "outputs": [],
   "source": [
    "def draw_heatmap(df, y_variable, no_features):\n",
    "    \"\"\" This Function takes three arguments; \n",
    "        1. The dataframe that we want to draw the heatmap for\n",
    "        2. The variable that we want to see the correlation of with other features for example the y-variable.\n",
    "        3. The top_n. For example for top 10 variables, type 10.\"\"\"\n",
    "    # Calculate the correlation matrix\n",
    "    cor = df.corr()\n",
    "    # Get the columns for n largetst features\n",
    "    columns = cor.nlargest(no_features, y_variable)[y_variable].index\n",
    "    cm = np.corrcoef(df[columns].values.T)\n",
    "    sns.set(font_scale=1)\n",
    "    fig = plt.figure(num=None, figsize=(10, 10), dpi=80, facecolor='w', edgecolor='k')\n",
    "    # Define the color pallet\n",
    "    cmap = sns.cm.vlag_r\n",
    "    heat_map = sns.heatmap(cm, cbar=True, annot=True, square=True, fmt=\".2f\", annot_kws={'size':12}, \n",
    "                      yticklabels=columns.values, xticklabels=columns.values,\n",
    "                      linewidths=.2,vmax=1, center=0, cmap= cmap)\n",
    "    return plt.show();"
   ]
  },
  {
   "cell_type": "code",
   "execution_count": null,
   "metadata": {},
   "outputs": [],
   "source": [
    "# Let's see the top 10 features against \"SalePrice\"\n",
    "draw_heatmap(df_scaled, \"SalePrice\", 10)"
   ]
  },
  {
   "cell_type": "code",
   "execution_count": null,
   "metadata": {},
   "outputs": [],
   "source": [
    "# Let's see the top 5 variables: \n",
    "draw_heatmap(df_scaled, \"SalePrice\", 5)"
   ]
  },
  {
   "cell_type": "markdown",
   "metadata": {},
   "source": [
    "I want to check for multicollinearity between features that are about the same thigns for exmaple, Garage, or basement. "
   ]
  },
  {
   "cell_type": "code",
   "execution_count": null,
   "metadata": {},
   "outputs": [],
   "source": [
    "basement_features =     [\"BsmtFinSF1\", \"BsmtFinSF2\", \"BsmtUnfSF\",\"TotalBsmtSF\", \"BsmtFullBath\", \"BsmtHalfBath\",\n",
    "                         \"BsmtQual\", \"BsmtCond\", \"BsmtExposure\", \"BsmtFinType1\", \"BsmtFinType2\", \"SalePrice\"]\n",
    "bsmnt_df = df_scaled[basement_features]\n",
    "draw_heatmap(bsmnt_df, \"SalePrice\", 10)"
   ]
  },
  {
   "cell_type": "markdown",
   "metadata": {},
   "source": [
    "As we can see the features are somehow correlated, but I don't think they will affect the model. \n",
    "I am going to use the TotalBsmtSF later to create another feature and will drop it.\n",
    "\n",
    "Let's check for the features of Garage: "
   ]
  },
  {
   "cell_type": "code",
   "execution_count": null,
   "metadata": {},
   "outputs": [],
   "source": [
    "garage_features = [\"GarageCond\",\"GarageType\", \"GarageQual\",\"GarageFinish\", \"GarageArea\",\"GarageCars\",\"GarageYrBlt\", \"SalePrice\"]\n",
    "garage_df = df_scaled[garage_features]\n",
    "draw_heatmap(garage_df, \"SalePrice\", 10)"
   ]
  },
  {
   "cell_type": "code",
   "execution_count": null,
   "metadata": {},
   "outputs": [],
   "source": [
    "corr, _ = pearsonr(df_scaled[\"GarageArea\"], df_scaled[\"GarageCars\"])\n",
    "print('Pearsons correlation: %.3f' % corr)"
   ]
  },
  {
   "cell_type": "markdown",
   "metadata": {},
   "source": [
    "I am going to use the GarageArea in to create another variable and will drop it from the dataframe, so I don't have to worry about multicollinearity"
   ]
  },
  {
   "cell_type": "markdown",
   "metadata": {},
   "source": [
    "## Feature Engineering:\n",
    "\n",
    "In this section I am going to create some new features and maybe delete some features that won't affect our model: "
   ]
  },
  {
   "cell_type": "code",
   "execution_count": 207,
   "metadata": {},
   "outputs": [],
   "source": [
    "def transform_2_encode_data(df):\n",
    "    \"\"\"\n",
    "    Since most of of our features are ordinal categorical, we cannot use one hot encodeing or Pandas' get_dummies function here. \n",
    "    Instead, we are going to code them manualy so there is an order to the values. \n",
    "    \"\"\"\n",
    "    # Convert the following columns  according to their dictionary. \n",
    "    df['MSSubClass'] = df[\"MSSubClass\"].replace(\n",
    "     {20: 'SC20',30: 'SC30', 40: 'SC40', 45: 'SC45', 50: 'SC50', 60: 'SC60', 70: 'SC70', 75: 'SC75',\n",
    "      80: 'SC80', 85: 'SC85', 90: 'SC90', 120: 'SC120', 150: 'SC150', 160: 'SC160', 180: 'SC180', 190: 'SC190'})\n",
    "    #pd.get_dummies(df['MSSubClass'], prefix='MSSubClass')\n",
    "    df = df.replace({'Street': {'Grvl': 0, 'Pave': 1},\n",
    "                     'Alley': {'None':0, 'Grvl': 1, 'Pave': 2},\n",
    "                     'ExterQual': {'Ex': 4, 'Gd': 3, 'TA': 2, 'Fa': 1,'Po': 0},\n",
    "                     'ExterCond': {'Ex': 4, 'Gd': 3, 'TA': 2, 'Fa': 1,'Po': 0},\n",
    "                     'BsmtExposure': {'Gd': 4, 'Av': 3, 'Mn': 2, 'No': 1,'None': 0},\n",
    "                     'BsmtQual': {'Ex': 5, 'Gd': 4, 'TA': 3, 'Fa': 2,'Po': 1,'None': 0},\n",
    "                     'BsmtCond': {'Ex': 5, 'Gd': 4, 'TA': 3, 'Fa': 2,'Po': 1,'None': 0},\n",
    "                     'BsmtFinType1': {'None':0, 'Unf':1, 'LwQ':2, 'Rec':3, 'BLQ':4, 'ALQ':5, 'GLQ':6},\n",
    "                     'BsmtFinType2': {'None':0, 'Unf':1, 'LwQ':2, 'Rec':3, 'BLQ':4, 'ALQ':5, 'GLQ':6},\n",
    "                     'HeatingQC': {'Ex': 4, 'Gd': 3, 'TA': 2, 'Fa': 1,'Po': 0},\n",
    "                     'CentralAir': {'N':0, 'Y':1},\n",
    "                     'KitchenQual': {'Ex': 4, 'Gd': 3, 'TA': 2, 'Fa': 1, 'Po': 0},\n",
    "                     'Functional': {'Typ':0,'Min1':1,'Min2':1,'Mod':2,'Maj1':3,'Maj2':4,'Sev':5,'Sal': 6},\n",
    "                     'FireplaceQu': {'Ex': 5, 'Gd': 4, 'TA': 3, 'Fa': 2, 'Po': 1, 'None': 0},\n",
    "                     'GarageQual': {'Ex': 5, 'Gd': 4, 'TA': 3, 'Fa': 2, 'Po': 1, 'None': 0},\n",
    "                     'GarageCond': {'Ex': 5, 'Gd': 4, 'TA': 3, 'Fa': 2, 'Po': 1, 'None': 0},\n",
    "                     'GarageFinish': {'Fin': 3, 'RFn':2, 'Unf':1, 'None':0},\n",
    "                     'PoolQC': {'Ex': 4, 'Gd': 3, 'TA': 2, 'Fa': 1, 'None': 0},\n",
    "                     'Fence': {'GdPrv': 2, 'GdWo': 2, 'MnPrv': 1, 'MnWw': 1, 'None': 0},\n",
    "                     'HeatingQC': {'Ex': 4, 'Gd': 3, 'TA': 2, 'Fa': 1,'Po': 0},\n",
    "                     'LotShape' : {'Reg': 3, 'IR1':2, 'IR2':1, 'IR3':0},\n",
    "                     'LandSlope': {'Gtl': 2, 'Mod':1, 'Sev':0}\n",
    "                      })\n",
    "    # Convert the Neighborhoods to latitude and longtitude\n",
    "    dict_neighbor = {\n",
    "        'NAmes'  :{'lat': 42.045830,'lon': -93.620767},\n",
    "        'CollgCr':{'lat': 42.018773,'lon': -93.685543},\n",
    "        'OldTown':{'lat': 42.030152,'lon': -93.614628},\n",
    "        'Edwards':{'lat': 42.021756,'lon': -93.670324},\n",
    "        'Somerst':{'lat': 42.050913,'lon': -93.644629},\n",
    "        'Gilbert':{'lat': 42.060214,'lon': -93.643179},\n",
    "        'NridgHt':{'lat': 42.060357,'lon': -93.655263},\n",
    "        'Sawyer' :{'lat': 42.034446,'lon': -93.666330},\n",
    "        'NWAmes' :{'lat': 42.049381,'lon': -93.634993},\n",
    "        'SawyerW':{'lat': 42.033494,'lon': -93.684085},\n",
    "        'BrkSide':{'lat': 42.032422,'lon': -93.626037},\n",
    "        'Crawfor':{'lat': 42.015189,'lon': -93.644250},\n",
    "        'Mitchel':{'lat': 41.990123,'lon': -93.600964},\n",
    "        'NoRidge':{'lat': 42.051748,'lon': -93.653524},\n",
    "        'Timber' :{'lat': 41.998656,'lon': -93.652534},\n",
    "        'IDOTRR' :{'lat': 42.022012,'lon': -93.622183},\n",
    "        'ClearCr':{'lat': 42.060021,'lon': -93.629193},\n",
    "        'StoneBr':{'lat': 42.060227,'lon': -93.633546},\n",
    "        'SWISU'  :{'lat': 42.022646,'lon': -93.644853}, \n",
    "        'MeadowV':{'lat': 41.991846,'lon': -93.603460},\n",
    "        'Blmngtn':{'lat': 42.059811,'lon': -93.638990},\n",
    "        'BrDale' :{'lat': 42.052792,'lon': -93.628820},\n",
    "        'Veenker':{'lat': 42.040898,'lon': -93.651502},\n",
    "        'NPkVill':{'lat': 42.049912,'lon': -93.626546},\n",
    "        'Blueste':{'lat': 42.010098,'lon': -93.647269}\n",
    "        }\n",
    "    df[\"Lat\"] = df[\"Neighborhood\"].map(lambda x: dict_neighbor[x]['lat'])\n",
    "    df[\"lon\"] = df[\"Neighborhood\"].map(lambda x: dict_neighbor[x]['lon'])\n",
    "    df.drop([\"Neighborhood\"], axis=1, inplace=True)\n",
    "\n",
    "    # Cols that need to be encoded using LabelEncoder: \n",
    "    df[\"OverallCond\"] = df[\"OverallCond\"].astype(int)\n",
    "    df[\"ExterQual\"] = df[\"ExterQual\"].astype(int)\n",
    "    df[\"KitchenQual\"] = df[\"KitchenQual\"].astype(int)\n",
    "    df[\"Functional\"] = df[\"Functional\"].astype(int)\n",
    "\n",
    "    \n",
    "    cols = ('PavedDrive','OverallCond', 'YrSold', 'MSZoning', 'LandContour', 'Condition1',\n",
    "       'Condition2', 'BldgType', 'HouseStyle', 'GarageType', 'LotConfig', 'Exterior1st', 'Exterior2nd', 'MasVnrType',\n",
    "           'RoofStyle', 'RoofMatl', 'Foundation', 'Heating', 'Electrical', 'MiscFeature',\n",
    "           'SaleType','SaleCondition' )\n",
    "    \n",
    "    for column in cols:\n",
    "        label = LabelEncoder()\n",
    "        label.fit(list(df[column].values))\n",
    "        df[column] = label.transform(list(df[column].values))\n",
    "        \n",
    "    # Now that we have the list of ordinal categories encoded, we can use Panda's get_dummy function to \n",
    "    # convert the rest to dummy variable. \n",
    "    #df = pd.get_dummies(df)\n",
    "    \n",
    "    return df"
   ]
  },
  {
   "cell_type": "code",
   "execution_count": null,
   "metadata": {},
   "outputs": [],
   "source": [
    "def transform_3_simplify_and_create_features(df):\n",
    "    \"\"\" In the section, we are going to create create some new features from the existing features and then drop the \n",
    "    features that we don't need anymore.\"\"\"\n",
    "    df = df.drop([\"Id\"], axis=1)\n",
    "    \n",
    "    df['HasPool'] = df['PoolArea'].apply(lambda x: 1 if x > 0 else 0)\n",
    "    df['Has2ndFloor'] = df['2ndFlrSF'].apply(lambda x: 1 if x > 0 else 0)\n",
    "    df['HasGarage'] = df['GarageArea'].apply(lambda x: 1 if x > 0 else 0)\n",
    "    df['HasBsmt'] = df['TotalBsmtSF'].apply(lambda x: 1 if x > 0 else 0)\n",
    "    df['HasFireplace'] = df['Fireplaces'].apply(lambda x: 1 if x > 0 else 0)\n",
    "    \n",
    "    df[\"MoSold\"] = df[\"MoSold\"].astype(str)\n",
    "    df[\"YrSold\"] = df[\"YrSold\"].astype(str)\n",
    "    \n",
    "    # Create dummy variable for MoSold and MSSubClass variables. \n",
    "    df = pd.concat([df, pd.get_dummies(df[\"MoSold\"], prefix='MoSold')], axis=1)\n",
    "    df = pd.concat([df, pd.get_dummies(df[\"MSSubClass\"], prefix='MSSubClass')], axis=1)\n",
    "\n",
    "    # Adding a column for the total squqre footage. We can calculate this by taking the sum of all possible areas\n",
    "    # which could be the sum of total basement, 1st floor and 2nd floor areas\n",
    "    df[\"TotalSqF\"] = (df[\"TotalBsmtSF\"] + df[\"1stFlrSF\"] + df[\"2ndFlrSF\"] +\n",
    "                        df[\"GarageArea\"] + df[\"BsmtFinSF1\"] + df[\"BsmtFinSF2\"] + df[\"PoolArea\"])\n",
    "    # Total number of bathrooms\n",
    "    df[\"TotalBaths\"] = (df[\"HalfBath\"] + (0.5 * df[\"FullBath\"]) + \n",
    "                        df[\"BsmtFullBath\"] + (0.5*df[\"BsmtHalfBath\"]))\n",
    "    \n",
    "    # Total Porch Square Feet\n",
    "    df['TotalPorchSF'] = (df[\"OpenPorchSF\"] + df[\"3SsnPorch\"] +\n",
    "                              df[\"EnclosedPorch\"] + df[\"ScreenPorch\"] +\n",
    "                              df[\"WoodDeckSF\"])\n",
    "    # Let's get the current year first\n",
    "    current_year = int(datetime.now().strftime('%Y'))\n",
    "    \n",
    "    # House Age\n",
    "    # Now let's subract the year built from the current year variable to caculate the age of the hosue\n",
    "    df[\"HouseAge\"] = current_year - df[\"YearBuilt\"]\n",
    "\n",
    "    # House Remodeling Age\n",
    "    df[\"RemodAddAge\"] = current_year - df[\"YearRemodAdd\"]\n",
    "    \n",
    "    # Garage AGe\n",
    "    df[\"GarageAge\"] = current_year - df[\"GarageYrBlt\"]\n",
    "    \n",
    "    \n",
    "    df[\"SimplOverallQual\"] = df.OverallQual.replace({1 : 1, 2 : 1, 3 : 1, 4 : 1, 5 : 1, 6 : 1,7 : 1, # Not Good\n",
    "                                                     8 : 3, 9 : 3, 10 : 3 # good\n",
    "                                                    })\n",
    "    df[\"SimplOverallCond\"] = df.OverallCond.replace({1 : 1, 2 : 1, 3 : 1, 4 : 1, 5 :1, 6 : 1, 7: 1,  # Not Good\n",
    "                                                     8 : 2, 9 : 2, 10 : 2 # good\n",
    "                                                    }).astype(int)\n",
    "    df[\"SimplPoolQC\"] = df.PoolQC.replace({1 : 1, 2 : 1, 3: 1, # Not Good\n",
    "                                           4 : 2 # good\n",
    "                                          }).astype(int)\n",
    "    df[\"SimplGarageCond\"] = df.GarageCond.replace({1 : 1, 2 : 1, 3 : 1, 4 : 1, # Not Good\n",
    "                                                   5 : 2 # good\n",
    "                                                  }).astype(int)\n",
    "    df[\"SimplGarageQual\"] = df.GarageQual.replace({1 : 1, 2 : 1, 3 : 1, 4 : 1, # Not Good\n",
    "                                                   5 : 2 # good\n",
    "                                                  }).astype(int)\n",
    "    df[\"SimplFireplaceQu\"] = df.FireplaceQu.replace({1 : 1, 2 : 1, 3 : 1, 4 : 1, # Not Good\n",
    "                                                     5 : 2 # good\n",
    "                                                    })\n",
    "    df[\"SimplFireplaceQu\"] = df.FireplaceQu.replace({1 : 1, 2 : 1, 3 : 1, 4 : 1, # Not Good\n",
    "                                                     5 : 2 # good\n",
    "                                                    }).astype(int)\n",
    "    df[\"SimplFunctional\"] = df.Functional.replace({1 : 1, 2 : 1, # bad\n",
    "                                                   3 : 2, 4 : 2, # major\n",
    "                                                   5 : 3, 6 : 3, 7 : 3, # minor\n",
    "                                                   8 : 4 # typical\n",
    "                                                  })\n",
    "    df[\"SimplKitchenQual\"] = df.KitchenQual.replace({1 : 1, 2 : 1, 3 : 1, 4 : 1, # Not Good\n",
    "                                                     5 : 2 # good\n",
    "                                                    })\n",
    "    df[\"SimplHeatingQC\"] = df.HeatingQC.replace({1 : 1, 2 : 1, 3 : 1, 4 : 1, # Not Good\n",
    "                                                 5 : 2 # good\n",
    "                                                })\n",
    "    df[\"SimplBsmtFinType1\"] = df.BsmtFinType1.replace({1 : 1, # unfinished\n",
    "                                                       2 : 1, 3 : 1, # rec room\n",
    "                                                       4 : 2, 5 : 2, 6 : 2 # living quarters\n",
    "                                                      }).astype(int)\n",
    "    df[\"SimplBsmtFinType2\"] = df.BsmtFinType2.replace({1 : 1, # unfinished\n",
    "                                                       2 : 1, 3 : 1, # rec room\n",
    "                                                       4 : 2, 5 : 2, 6 : 2 # living quarters\n",
    "                                                      })\n",
    "    df[\"SimplBsmtCond\"] = df.BsmtCond.replace({1 : 1, 2 : 1, 3 : 1, 4 : 1, # Not Good\n",
    "                                               5 : 2 # good\n",
    "                                              })\n",
    "    df[\"SimplBsmtQual\"] = df.BsmtQual.replace({1 : 1, 2 : 1, 3 : 1, 4 : 1, # Not Good\n",
    "                                               5 : 2 # good\n",
    "                                              })\n",
    "    df[\"SimplExterCond\"] = df.ExterCond.replace({1 : 1, 2 : 1, 3 : 1, 4 : 1, # Not Good\n",
    "                                                 5 : 2 # good\n",
    "                                                })\n",
    "    df[\"SimplExterQual\"] = df.ExterQual.replace({1 : 1, 2 : 1, 3 : 1, 4 : 1, # Not Good\n",
    "                                                 5 : 2 # good \n",
    "                                                })\n",
    "    df[\"OverallQual-s2\"] = df[\"OverallQual\"] ** 2\n",
    "    df[\"OverallQual-s3\"] = df[\"OverallQual\"] ** 3\n",
    "    df[\"GrLivArea-2\"] = df[\"GrLivArea\"] ** 2\n",
    "    df[\"GrLivArea-3\"] = df[\"GrLivArea\"] ** 3\n",
    "    df[\"SimplOverallQual-s2\"] = df[\"SimplOverallQual\"] ** 2\n",
    "    df[\"SimplOverallQual-s3\"] = df[\"SimplOverallQual\"] ** 3\n",
    "    df[\"SimplOverallQual-Sq\"] = np.sqrt(df[\"SimplOverallQual\"])\n",
    "    df[\"ExterQual-2\"] = (df[\"ExterQual\"]).astype(int) ** 2\n",
    "    df[\"ExterQual-3\"] = df[\"ExterQual\"] ** 3\n",
    "    df[\"ExterQual-Sq\"] = np.sqrt((df[\"ExterQual\"].astype(int)))\n",
    "    df[\"GarageCars-2\"] = df[\"GarageCars\"] ** 2\n",
    "    df[\"GarageCars-3\"] = (df[\"GarageCars\"] ** 3).astype(int)\n",
    "    df[\"GarageCars-Sq\"] = np.sqrt(df[\"GarageCars\"])\n",
    "    df[\"TotalBath-2\"] = df[\"TotalBaths\"] ** 2\n",
    "    df[\"TotalBath-3\"] = df[\"TotalBaths\"] ** 3\n",
    "    df[\"TotalBath-Sq\"] = np.sqrt(df[\"TotalBaths\"])\n",
    "    df[\"KitchenQual-2\"] = (df[\"KitchenQual\"] ** 2).astype(int)\n",
    "    df[\"KitchenQual-3\"] = (df[\"KitchenQual\"] ** 3).astype(int)\n",
    "\n",
    "    #drop the columns used to generate other columns. \n",
    "    df.drop([\"TotalBsmtSF\", \"1stFlrSF\", \"2ndFlrSF\", \"GarageArea\", \"BsmtFinSF1\", \n",
    "             \"BsmtFinSF2\", \"HalfBath\", \"FullBath\", \"BsmtFullBath\", \"BsmtHalfBath\",\n",
    "            \"OpenPorchSF\", \"3SsnPorch\", \"EnclosedPorch\", \"ScreenPorch\", \"WoodDeckSF\",\n",
    "            \"YearBuilt\",\"YearRemodAdd\", \"GarageYrBlt\", \"YrSold\", 'MoSold', 'MSSubClass', \"Utilities\"], axis=1, inplace=True)\n",
    "    return df"
   ]
  },
  {
   "cell_type": "markdown",
   "metadata": {},
   "source": [
    "## Transforming the data:\n",
    "In this section, I am going to apply the functions that we created earlier to transform the train and test data and prepare them for our Machine Learning algorithms. "
   ]
  },
  {
   "cell_type": "code",
   "execution_count": null,
   "metadata": {},
   "outputs": [],
   "source": [
    "# This helper function is going to help us apply the functions in order and return a prepared dataframe. \n",
    "def full_transform(df):\n",
    "    return transform_3_simplify_and_create_features(transform_2_encode_data(transform_1_impute_missing(df)))"
   ]
  },
  {
   "cell_type": "code",
   "execution_count": null,
   "metadata": {},
   "outputs": [],
   "source": [
    "train_data = full_transform(train_df)\n",
    "# Rescale the target variable\n",
    "train_data[\"SalePrice\"] = np.log1p(train_data[\"SalePrice\"])\n",
    "test_data = full_transform(test_df)"
   ]
  },
  {
   "cell_type": "markdown",
   "metadata": {},
   "source": [
    "Let's check and make sure that both the training and testing data have the same elements."
   ]
  },
  {
   "cell_type": "code",
   "execution_count": null,
   "metadata": {},
   "outputs": [],
   "source": [
    "print(\"Columns from the train data that are not in test \", train_data.columns.difference(test_data.columns))\n",
    "print(\"Columns from the test data that are not in train \", test_data.columns.difference(train_data.columns))"
   ]
  },
  {
   "cell_type": "code",
   "execution_count": null,
   "metadata": {},
   "outputs": [],
   "source": [
    "# We should drop that MSSubClass_SC150 column from test data: \n",
    "test_data = test_data.drop(['MSSubClass_SC150'], axis=1)"
   ]
  },
  {
   "cell_type": "code",
   "execution_count": null,
   "metadata": {},
   "outputs": [],
   "source": [
    "print(\"Columns from the train data that are not in test \", train_data.columns.difference(test_data.columns))\n",
    "print(\"Columns from the test data that are not in train \", test_data.columns.difference(train_data.columns))"
   ]
  },
  {
   "cell_type": "code",
   "execution_count": null,
   "metadata": {},
   "outputs": [],
   "source": [
    "# Let's check the heatmap for the transformed data. \n",
    "draw_heatmap(train_data, \"SalePrice\", 15)"
   ]
  },
  {
   "cell_type": "markdown",
   "metadata": {},
   "source": [
    "### Exploring the relationship between the highest correlated features and the SalePrice\n",
    "\n",
    "Now that we know our top 5 highly correlated features, let's draw a scatter plot for some of the features to see how the data is distributed and if we could observe any outliers. \n",
    "\n",
    "Since I am going to be displaying the relationship between several columns, I am going to define a function that will help us do that. "
   ]
  },
  {
   "cell_type": "code",
   "execution_count": 208,
   "metadata": {},
   "outputs": [],
   "source": [
    "def draw_scatter(df, x, y=\"SalePrice\"):\n",
    "    \"\"\" This fuction helps draw a scatter plot using Seaborn's functions. \n",
    "    It takes three input arguements:\n",
    "    1. The dataframe(data)\n",
    "    2. our x variable that we want to display in our x axis\n",
    "    3. y variable. The default column is 'SalePrice', however, we can change that \n",
    "    to whatever column we want\"\"\"\n",
    "    # Set the fiture size\n",
    "    plt.figure(figsize=(12,10))\n",
    "    # plot the variables\n",
    "    sns.scatterplot(data=df, x=x, y=y, palette=\"deep\").set_title(\"Scatter Plot for {} vs. {}\".format(x, y))"
   ]
  },
  {
   "cell_type": "code",
   "execution_count": 209,
   "metadata": {},
   "outputs": [
    {
     "data": {
      "image/png": "[encoded data removed]",
      "text/plain": [
       "<Figure size 864x720 with 1 Axes>"
      ]
     },
     "metadata": {},
     "output_type": "display_data"
    }
   ],
   "source": [
    "# Let's look at the relationship between GrLivArea and the SalePrice\n",
    "draw_scatter(df_scaled, \"GrLivArea\")"
   ]
  },
  {
   "cell_type": "markdown",
   "metadata": {},
   "source": [
    "We can see that there are a few points to the very right of the graph. I assume they are outliers. Let's draw a boxplot and confirm if those points are really outliers:"
   ]
  },
  {
   "cell_type": "markdown",
   "metadata": {},
   "source": [
    "## Modeling\n",
    "\n",
    "Now that we have our data prepared, let's start our modeling process. \n",
    "\n",
    "\n",
    "### Libraries\n",
    "Importing libraries that will be used:"
   ]
  },
  {
   "cell_type": "code",
   "execution_count": 210,
   "metadata": {},
   "outputs": [],
   "source": [
    "from sklearn.linear_model import ElasticNet, Lasso, Ridge, LinearRegression\n",
    "from sklearn.kernel_ridge import KernelRidge\n",
    "from sklearn.pipeline import make_pipeline\n",
    "from sklearn.preprocessing import RobustScaler\n",
    "from sklearn.model_selection import KFold, cross_val_score, train_test_split\n",
    "from sklearn.metrics import mean_squared_error\n",
    "from sklearn.model_selection import RandomizedSearchCV\n",
    "from sklearn.feature_selection import RFECV\n",
    "from sklearn.preprocessing import RobustScaler\n",
    "from sklearn.metrics import make_scorer \n",
    "from scipy.stats import uniform\n",
    "from sklearn.linear_model import LinearRegression, RidgeCV, LassoCV, ElasticNetCV, SGDRegressor\n",
    "from sklearn.datasets import make_regression\n",
    "from sklearn.model_selection import train_test_split\n",
    "from sklearn.feature_selection import SelectKBest\n",
    "from sklearn.feature_selection import mutual_info_regression\n",
    "from sklearn.linear_model import LinearRegression\n",
    "from sklearn.metrics import mean_absolute_error\n",
    "from sklearn.datasets import make_regression\n",
    "from sklearn.model_selection import RepeatedKFold\n",
    "from sklearn.feature_selection import SelectKBest\n",
    "from sklearn.feature_selection import mutual_info_regression\n",
    "from sklearn.linear_model import LinearRegression\n",
    "from sklearn.pipeline import Pipeline\n",
    "from sklearn.model_selection import GridSearchCV\n",
    "from xgboost import XGBRegressor\n",
    "from sklearn.ensemble import RandomForestRegressor,  GradientBoostingRegressor"
   ]
  },
  {
   "cell_type": "markdown",
   "metadata": {},
   "source": [
    "### Preparing the data for the model: "
   ]
  },
  {
   "cell_type": "code",
   "execution_count": 211,
   "metadata": {},
   "outputs": [],
   "source": [
    "# Copying our transformed data\n",
    "data = train_data.copy()\n",
    "#Splitting the data into feature and target varaibles. \n",
    "housing = data.drop(\"SalePrice\", axis=1) # drop labels for training set\n",
    "housing_labels = data[\"SalePrice\"].copy()\n",
    "\n",
    "# Prepare our training data into train test portions. \n",
    "X_train, X_test, y_train, y_test = train_test_split(housing, housing_labels, test_size = 0.35,\n",
    "                                                   random_state = 123)"
   ]
  },
  {
   "cell_type": "markdown",
   "metadata": {},
   "source": [
    "# Feature Selection\n",
    "\n",
    "Now that we have our data prepared, we should perform feature selection to reduce the number of features. We can see that we 130 features. Feature selection is going to help us improve performance and also reduce CPU runtime. "
   ]
  },
  {
   "cell_type": "markdown",
   "metadata": {},
   "source": [
    "### Feature Selection Using XGBoost"
   ]
  },
  {
   "cell_type": "code",
   "execution_count": 96,
   "metadata": {},
   "outputs": [
    {
     "data": {
      "text/html": [
       "<div>\n",
       "<style scoped>\n",
       "    .dataframe tbody tr th:only-of-type {\n",
       "        vertical-align: middle;\n",
       "    }\n",
       "\n",
       "    .dataframe tbody tr th {\n",
       "        vertical-align: top;\n",
       "    }\n",
       "\n",
       "    .dataframe thead th {\n",
       "        text-align: right;\n",
       "    }\n",
       "</style>\n",
       "<table border=\"1\" class=\"dataframe\">\n",
       "  <thead>\n",
       "    <tr style=\"text-align: right;\">\n",
       "      <th></th>\n",
       "      <th>Importance</th>\n",
       "    </tr>\n",
       "  </thead>\n",
       "  <tbody>\n",
       "    <tr>\n",
       "      <th>KitchenQual</th>\n",
       "      <td>0.138899</td>\n",
       "    </tr>\n",
       "    <tr>\n",
       "      <th>OverallQual</th>\n",
       "      <td>0.120414</td>\n",
       "    </tr>\n",
       "    <tr>\n",
       "      <th>CentralAir</th>\n",
       "      <td>0.084872</td>\n",
       "    </tr>\n",
       "    <tr>\n",
       "      <th>TotalSqF</th>\n",
       "      <td>0.083853</td>\n",
       "    </tr>\n",
       "    <tr>\n",
       "      <th>GarageType</th>\n",
       "      <td>0.077574</td>\n",
       "    </tr>\n",
       "    <tr>\n",
       "      <th>MSSubClass_SC30</th>\n",
       "      <td>0.046141</td>\n",
       "    </tr>\n",
       "    <tr>\n",
       "      <th>GrLivArea</th>\n",
       "      <td>0.034454</td>\n",
       "    </tr>\n",
       "    <tr>\n",
       "      <th>GarageCars</th>\n",
       "      <td>0.024165</td>\n",
       "    </tr>\n",
       "    <tr>\n",
       "      <th>SaleCondition</th>\n",
       "      <td>0.022419</td>\n",
       "    </tr>\n",
       "    <tr>\n",
       "      <th>RemodAddAge</th>\n",
       "      <td>0.021911</td>\n",
       "    </tr>\n",
       "    <tr>\n",
       "      <th>FireplaceQu</th>\n",
       "      <td>0.021572</td>\n",
       "    </tr>\n",
       "    <tr>\n",
       "      <th>OverallCond</th>\n",
       "      <td>0.018837</td>\n",
       "    </tr>\n",
       "    <tr>\n",
       "      <th>BsmtQual</th>\n",
       "      <td>0.017724</td>\n",
       "    </tr>\n",
       "    <tr>\n",
       "      <th>Functional</th>\n",
       "      <td>0.014514</td>\n",
       "    </tr>\n",
       "    <tr>\n",
       "      <th>LowQualFinSF</th>\n",
       "      <td>0.013602</td>\n",
       "    </tr>\n",
       "    <tr>\n",
       "      <th>GarageCond</th>\n",
       "      <td>0.013471</td>\n",
       "    </tr>\n",
       "    <tr>\n",
       "      <th>MSSubClass_SC80</th>\n",
       "      <td>0.012136</td>\n",
       "    </tr>\n",
       "    <tr>\n",
       "      <th>Condition1</th>\n",
       "      <td>0.009199</td>\n",
       "    </tr>\n",
       "    <tr>\n",
       "      <th>RoofStyle</th>\n",
       "      <td>0.008940</td>\n",
       "    </tr>\n",
       "    <tr>\n",
       "      <th>GarageQual</th>\n",
       "      <td>0.008661</td>\n",
       "    </tr>\n",
       "    <tr>\n",
       "      <th>PoolArea</th>\n",
       "      <td>0.008221</td>\n",
       "    </tr>\n",
       "    <tr>\n",
       "      <th>Lat</th>\n",
       "      <td>0.007947</td>\n",
       "    </tr>\n",
       "    <tr>\n",
       "      <th>lon</th>\n",
       "      <td>0.007048</td>\n",
       "    </tr>\n",
       "    <tr>\n",
       "      <th>GarageFinish</th>\n",
       "      <td>0.006725</td>\n",
       "    </tr>\n",
       "    <tr>\n",
       "      <th>LandContour</th>\n",
       "      <td>0.006710</td>\n",
       "    </tr>\n",
       "    <tr>\n",
       "      <th>SaleType</th>\n",
       "      <td>0.006686</td>\n",
       "    </tr>\n",
       "    <tr>\n",
       "      <th>TotalPorchSF</th>\n",
       "      <td>0.006226</td>\n",
       "    </tr>\n",
       "    <tr>\n",
       "      <th>LotArea</th>\n",
       "      <td>0.006118</td>\n",
       "    </tr>\n",
       "    <tr>\n",
       "      <th>BedroomAbvGr</th>\n",
       "      <td>0.005902</td>\n",
       "    </tr>\n",
       "    <tr>\n",
       "      <th>MoSold_2</th>\n",
       "      <td>0.005808</td>\n",
       "    </tr>\n",
       "    <tr>\n",
       "      <th>MoSold_12</th>\n",
       "      <td>0.005749</td>\n",
       "    </tr>\n",
       "    <tr>\n",
       "      <th>MSSubClass_SC60</th>\n",
       "      <td>0.005503</td>\n",
       "    </tr>\n",
       "  </tbody>\n",
       "</table>\n",
       "</div>"
      ],
      "text/plain": [
       "                 Importance\n",
       "KitchenQual        0.138899\n",
       "OverallQual        0.120414\n",
       "CentralAir         0.084872\n",
       "TotalSqF           0.083853\n",
       "GarageType         0.077574\n",
       "MSSubClass_SC30    0.046141\n",
       "GrLivArea          0.034454\n",
       "GarageCars         0.024165\n",
       "SaleCondition      0.022419\n",
       "RemodAddAge        0.021911\n",
       "FireplaceQu        0.021572\n",
       "OverallCond        0.018837\n",
       "BsmtQual           0.017724\n",
       "Functional         0.014514\n",
       "LowQualFinSF       0.013602\n",
       "GarageCond         0.013471\n",
       "MSSubClass_SC80    0.012136\n",
       "Condition1         0.009199\n",
       "RoofStyle          0.008940\n",
       "GarageQual         0.008661\n",
       "PoolArea           0.008221\n",
       "Lat                0.007947\n",
       "lon                0.007048\n",
       "GarageFinish       0.006725\n",
       "LandContour        0.006710\n",
       "SaleType           0.006686\n",
       "TotalPorchSF       0.006226\n",
       "LotArea            0.006118\n",
       "BedroomAbvGr       0.005902\n",
       "MoSold_2           0.005808\n",
       "MoSold_12          0.005749\n",
       "MSSubClass_SC60    0.005503"
      ]
     },
     "execution_count": 96,
     "metadata": {},
     "output_type": "execute_result"
    }
   ],
   "source": [
    "xgb = XGBRegressor()\n",
    "xgb.fit(X_train, y_train)\n",
    "imp = pd.DataFrame(xgb.feature_importances_ ,columns = ['Importance'],index = X_train.columns)\n",
    "feature_importances = imp.sort_values(by='Importance',ascending=False)\n",
    "feature_importances.head(32)"
   ]
  },
  {
   "cell_type": "markdown",
   "metadata": {},
   "source": [
    "### Feature Importance Using Random Forest Regressor"
   ]
  },
  {
   "cell_type": "code",
   "execution_count": 99,
   "metadata": {},
   "outputs": [
    {
     "data": {
      "image/png": "[encoded data removed]",
      "text/plain": [
       "<Figure size 720x504 with 1 Axes>"
      ]
     },
     "metadata": {},
     "output_type": "display_data"
    }
   ],
   "source": [
    "rfr_model = RandomForestRegressor(max_depth=10)\n",
    "rfr_model.fit(X_train, y_train)\n",
    "\n",
    "# plot the 7 most important features \n",
    "plt.figure(figsize=(10,7))\n",
    "feat_importances = pd.Series(rfr_model.feature_importances_, index = X_train.columns)\n",
    "feat_importances.nlargest(15).plot(kind='barh');"
   ]
  },
  {
   "cell_type": "markdown",
   "metadata": {},
   "source": [
    "### Feature Importance using RFEC (Recursive feature elimination and cross-validated selection)"
   ]
  },
  {
   "cell_type": "code",
   "execution_count": null,
   "metadata": {},
   "outputs": [],
   "source": [
    "# Define a function to calculate RMSE\n",
    "def rmse(y_true, y_pred):\n",
    "    return np.sqrt(np.mean((y_true-y_pred)**2))\n",
    "\n",
    "# Define a function to calculate negative RMSE (as a score)\n",
    "def nrmse(y_true, y_pred):\n",
    "    return -1.0*rmse(y_true, y_pred)\n",
    "\n",
    "neg_rmse = make_scorer(nrmse)\n",
    "\n",
    "estimator = XGBRegressor()\n",
    "selector = RFECV(estimator, cv = 3, n_jobs = -1, scoring = neg_rmse)\n",
    "selector = selector.fit(X_train, y_train)\n",
    "\n",
    "print(\"The number of selected features is: {}\".format(selector.n_features_))\n",
    "\n",
    "features_kept = X_train.columns.values[selector.support_] \n",
    "\n",
    "X_train = X_train[features_kept]\n",
    "X_test = X_test[features_kept]\n",
    "\n",
    "features_kept"
   ]
  },
  {
   "cell_type": "code",
   "execution_count": 83,
   "metadata": {},
   "outputs": [],
   "source": [
    "# Features Kept\n",
    "feature_kept = ['MSZoning', 'LotFrontage', 'LotArea', 'Condition1', 'OverallQual', 'OverallCond', \n",
    "                'Exterior1st', 'ExterQual', 'Foundation', 'BsmtQual', 'BsmtExposure', 'CentralAir', \n",
    "                'LowQualFinSF', 'GrLivArea', 'KitchenQual', 'Functional', 'FireplaceQu', 'GarageType', \n",
    "                'GarageFinish', 'GarageCars', 'GarageQual', 'GarageCond', 'SaleCondition', 'Lat', 'lon', \n",
    "                'MSSubClass_SC30', 'TotalSqF', 'TotalBaths', 'TotalPorchSF', 'HouseAge', 'RemodAddAge', 'GarageAge']"
   ]
  },
  {
   "cell_type": "code",
   "execution_count": 85,
   "metadata": {},
   "outputs": [],
   "source": [
    "X_train1 = X_train[feature_kept]\n",
    "X_test1 =  X_test[feature_kept]"
   ]
  },
  {
   "cell_type": "markdown",
   "metadata": {},
   "source": [
    "# Removing Outliers"
   ]
  },
  {
   "cell_type": "code",
   "execution_count": 192,
   "metadata": {},
   "outputs": [],
   "source": [
    "def outliers_iqr(ys):\n",
    "    quartile_1, quartile_3 = np.percentile(ys, [25, 75]) #Get 1st and 3rd quartiles (25% -> 75% of data will be kept)\n",
    "    iqr = quartile_3 - quartile_1\n",
    "    lower_bound = quartile_1 - (iqr * 1.5) #Get lower bound\n",
    "    upper_bound = quartile_3 + (iqr * 1.5) #Get upper bound\n",
    "    return np.where((ys > upper_bound) | (ys < lower_bound)) #Get outlier values\n",
    "\n",
    "#Third, we will drop the outlier values from the train set\n",
    "newTrain = train_data.copy()\n",
    "trainWithoutOutliers = newTrain #We can't change train while running through it\n",
    "\n",
    "for column in newTrain:\n",
    "    outlierValuesList = np.ndarray.tolist(outliers_iqr(newTrain[column])[0]) #outliers_iqr() returns an array\n",
    "    trainWithoutOutliers = newTrain.drop(outlierValuesList) #Drop outlier rows\n",
    "    \n",
    "trainWithoutOutliers = newTrain"
   ]
  },
  {
   "cell_type": "markdown",
   "metadata": {},
   "source": [
    "# Building and Training the Models"
   ]
  },
  {
   "cell_type": "markdown",
   "metadata": {},
   "source": [
    "First, I am going to run a regular Gridsearch \n",
    "#### Using Basic Regression Models"
   ]
  },
  {
   "cell_type": "code",
   "execution_count": 136,
   "metadata": {},
   "outputs": [],
   "source": [
    "def test_models(models, data, iterations = 100):\n",
    "    results = {}\n",
    "    for i in models:\n",
    "        r2_train = []\n",
    "        r2_test = []\n",
    "        for j in range(iterations):\n",
    "            X_train, X_test, y_train, y_test = train_test_split(data[feature_kept], \n",
    "                                                                data[\"SalePrice\"], \n",
    "                                                                test_size= 0.2)\n",
    "            r2_test.append(mean_squared_error(y_test,\n",
    "                                            models[i].fit(X_train, \n",
    "                                                         y_train).predict(X_test)))\n",
    "            r2_train.append(mean_squared_error(y_train, \n",
    "                                             models[i].fit(X_train, \n",
    "                                                          y_train).predict(X_train)))\n",
    "        results[i] = [np.mean(r2_train), np.mean(r2_test)]\n",
    "    return pd.DataFrame(results)"
   ]
  },
  {
   "cell_type": "code",
   "execution_count": 140,
   "metadata": {},
   "outputs": [],
   "source": [
    "# Parameters for Lasso and Ridge Regression Models. \n",
    "lasso_params = {'alpha':[5e-05, 0.0001, 0.0002, 0.0003, 0.0004, 0.0005, 0.0006, 0.0007, 0.0008, 0.0009, 0.01]}\n",
    "ridge_params = {'alpha':[14.5, 14.6, 14.7, 14.8, 14.9, 15, 15.1, 15.2, 15.3, 15.4, 15.5, 16, 20, 30, 31, 32, 35, 38, 40, 50]}\n",
    "\n",
    "# Defining our Models and fitting them on the training data. \n",
    "models2 = {'OLS': LinearRegression(),\n",
    "           'Lasso': GridSearchCV(Lasso(), \n",
    "                               param_grid=lasso_params).fit(X_train1, y_train).best_estimator_,\n",
    "           'Ridge': GridSearchCV(Ridge(), \n",
    "                               param_grid=ridge_params).fit(X_train1, y_train).best_estimator_,}"
   ]
  },
  {
   "cell_type": "code",
   "execution_count": 141,
   "metadata": {},
   "outputs": [
    {
     "data": {
      "text/html": [
       "<div>\n",
       "<style scoped>\n",
       "    .dataframe tbody tr th:only-of-type {\n",
       "        vertical-align: middle;\n",
       "    }\n",
       "\n",
       "    .dataframe tbody tr th {\n",
       "        vertical-align: top;\n",
       "    }\n",
       "\n",
       "    .dataframe thead th {\n",
       "        text-align: right;\n",
       "    }\n",
       "</style>\n",
       "<table border=\"1\" class=\"dataframe\">\n",
       "  <thead>\n",
       "    <tr style=\"text-align: right;\">\n",
       "      <th></th>\n",
       "      <th>OLS</th>\n",
       "      <th>Lasso</th>\n",
       "      <th>Ridge</th>\n",
       "    </tr>\n",
       "  </thead>\n",
       "  <tbody>\n",
       "    <tr>\n",
       "      <th>0</th>\n",
       "      <td>0.019607</td>\n",
       "      <td>0.019558</td>\n",
       "      <td>0.020185</td>\n",
       "    </tr>\n",
       "    <tr>\n",
       "      <th>1</th>\n",
       "      <td>0.024889</td>\n",
       "      <td>0.025196</td>\n",
       "      <td>0.023315</td>\n",
       "    </tr>\n",
       "  </tbody>\n",
       "</table>\n",
       "</div>"
      ],
      "text/plain": [
       "        OLS     Lasso     Ridge\n",
       "0  0.019607  0.019558  0.020185\n",
       "1  0.024889  0.025196  0.023315"
      ]
     },
     "execution_count": 141,
     "metadata": {},
     "output_type": "execute_result"
    }
   ],
   "source": [
    "test_models(models2, train_data)"
   ]
  },
  {
   "cell_type": "markdown",
   "metadata": {},
   "source": [
    "#### Using Cross Validation and Stacking Models"
   ]
  },
  {
   "cell_type": "code",
   "execution_count": 186,
   "metadata": {},
   "outputs": [],
   "source": [
    "from sklearn.svm import SVR\n",
    "from lightgbm import  LGBMRegressor\n",
    "from mlxtend.regressor import StackingCVRegressor\n",
    "\n",
    "kfolds = KFold(n_splits=10, shuffle=True, random_state=42)\n",
    "\n",
    "def rmsle(y_test, y_pred):\n",
    "    return np.sqrt(mean_squared_error(y_test, y_pred))\n",
    "\n",
    "def cv_rmse(model, X=X_train):\n",
    "    rmse = np.sqrt(-cross_val_score(model, X_train1, y_train, scoring=\"neg_mean_squared_error\", cv=kfolds))\n",
    "    return (rmse)\n",
    "\n",
    "\n",
    "alphas_alt = [14.5, 14.6, 14.7, 14.8, 14.9, 15, 15.1, 15.2, 15.3, 15.4, 15.5, 16, 20, 30, 40, 50]\n",
    "alphas2 = [5e-05, 0.0001, 0.0002, 0.0003, 0.0004, 0.0005, 0.0006, 0.0007, 0.0008, 0.0009, 0.01]\n",
    "e_alphas = [0.0001, 0.0002, 0.0003, 0.0004, 0.0005, 0.0006, 0.0007]\n",
    "e_l1ratio = [0.8, 0.85, 0.9, 0.95, 0.99, 1]\n",
    "\n",
    "ols = make_pipeline(RobustScaler(), LinearRegression())\n",
    "ridge = make_pipeline(RobustScaler(), RidgeCV(alphas=alphas_alt, cv=kfolds))\n",
    "lasso = make_pipeline(RobustScaler(), LassoCV(max_iter=1e7, alphas=alphas2, random_state=42, cv=kfolds))\n",
    "elasticnet = make_pipeline(RobustScaler(), ElasticNetCV(max_iter=1e7, alphas=e_alphas, cv=kfolds, l1_ratio=e_l1ratio))                                \n",
    "svr = make_pipeline(RobustScaler(), SVR(C= 20, epsilon= 0.008, gamma=0.0003,))\n",
    "gbr = GradientBoostingRegressor(n_estimators=3000, learning_rate=0.05, max_depth=4, max_features='sqrt', \n",
    "                                min_samples_leaf=15, min_samples_split=10, loss='huber', random_state =42)  \n",
    "\n",
    "lightgbm = LGBMRegressor(objective='regression', \n",
    "                                       num_leaves=4,\n",
    "                                       learning_rate=0.01, \n",
    "                                       n_estimators=5000,\n",
    "                                       max_bin=200, \n",
    "                                       bagging_fraction=0.75,\n",
    "                                       bagging_freq=5, \n",
    "                                       bagging_seed=7,\n",
    "                                       feature_fraction=0.2,\n",
    "                                       feature_fraction_seed=7,\n",
    "                                       verbose=-1,\n",
    "                                       )\n",
    "xgboost = XGBRegressor(learning_rate=0.01,n_estimators=3460,\n",
    "                                     max_depth=3, min_child_weight=0,\n",
    "                                     gamma=0, subsample=0.7,\n",
    "                                     colsample_bytree=0.7,\n",
    "                                     objective='reg:linear', nthread=-1,\n",
    "                                     scale_pos_weight=1, seed=27,\n",
    "                                     reg_alpha=0.00006)\n",
    "\n",
    "stack_gen = StackingCVRegressor(regressors=(ols, ridge, lasso, elasticnet, gbr, xgboost, lightgbm),\n",
    "                                meta_regressor=xgboost,\n",
    "                                use_features_in_secondary=True)"
   ]
  },
  {
   "cell_type": "code",
   "execution_count": 187,
   "metadata": {},
   "outputs": [
    {
     "name": "stdout",
     "output_type": "stream",
     "text": [
      "OLS: 0.1548 (0.0599)\n",
      " 2020-09-27 00:02:12.862336\n"
     ]
    }
   ],
   "source": [
    "score = cv_rmse(ols)\n",
    "print(\"OLS: {:.4f} ({:.4f})\\n\".format(score.mean(), score.std()), datetime.now(), )"
   ]
  },
  {
   "cell_type": "code",
   "execution_count": 149,
   "metadata": {},
   "outputs": [
    {
     "name": "stdout",
     "output_type": "stream",
     "text": [
      "RIDGE: 0.1533 (0.0580)\n",
      " 2020-09-26 23:04:07.360220\n"
     ]
    }
   ],
   "source": [
    "score = cv_rmse(ridge)\n",
    "print(\"RIDGE: {:.4f} ({:.4f})\\n\".format(score.mean(), score.std()), datetime.now(), )"
   ]
  },
  {
   "cell_type": "code",
   "execution_count": 150,
   "metadata": {},
   "outputs": [
    {
     "name": "stdout",
     "output_type": "stream",
     "text": [
      "LASSO: 0.1551 (0.0607)\n",
      " 2020-09-26 23:04:10.829679\n"
     ]
    }
   ],
   "source": [
    "score = cv_rmse(lasso)\n",
    "print(\"LASSO: {:.4f} ({:.4f})\\n\".format(score.mean(), score.std()), datetime.now(), )"
   ]
  },
  {
   "cell_type": "code",
   "execution_count": 151,
   "metadata": {},
   "outputs": [
    {
     "name": "stdout",
     "output_type": "stream",
     "text": [
      "elastic net: 0.1550 (0.0604)\n",
      " 2020-09-26 23:04:14.699625\n"
     ]
    }
   ],
   "source": [
    "score = cv_rmse(elasticnet)\n",
    "print(\"elastic net: {:.4f} ({:.4f})\\n\".format(score.mean(), score.std()), datetime.now(), )"
   ]
  },
  {
   "cell_type": "code",
   "execution_count": 152,
   "metadata": {},
   "outputs": [
    {
     "name": "stdout",
     "output_type": "stream",
     "text": [
      "SVR: 0.1592 (0.0509)\n",
      " 2020-09-26 23:04:16.601151\n"
     ]
    }
   ],
   "source": [
    "score = cv_rmse(svr)\n",
    "print(\"SVR: {:.4f} ({:.4f})\\n\".format(score.mean(), score.std()), datetime.now(), )"
   ]
  },
  {
   "cell_type": "code",
   "execution_count": 153,
   "metadata": {},
   "outputs": [
    {
     "name": "stdout",
     "output_type": "stream",
     "text": [
      "[LightGBM] [Warning] feature_fraction is set=0.2, colsample_bytree=1.0 will be ignored. Current value: feature_fraction=0.2\n",
      "[LightGBM] [Warning] bagging_fraction is set=0.75, subsample=1.0 will be ignored. Current value: bagging_fraction=0.75\n",
      "[LightGBM] [Warning] bagging_freq is set=5, subsample_freq=0 will be ignored. Current value: bagging_freq=5\n",
      "[LightGBM] [Warning] feature_fraction is set=0.2, colsample_bytree=1.0 will be ignored. Current value: feature_fraction=0.2\n",
      "[LightGBM] [Warning] bagging_fraction is set=0.75, subsample=1.0 will be ignored. Current value: bagging_fraction=0.75\n",
      "[LightGBM] [Warning] bagging_freq is set=5, subsample_freq=0 will be ignored. Current value: bagging_freq=5\n",
      "[LightGBM] [Warning] feature_fraction is set=0.2, colsample_bytree=1.0 will be ignored. Current value: feature_fraction=0.2\n",
      "[LightGBM] [Warning] bagging_fraction is set=0.75, subsample=1.0 will be ignored. Current value: bagging_fraction=0.75\n",
      "[LightGBM] [Warning] bagging_freq is set=5, subsample_freq=0 will be ignored. Current value: bagging_freq=5\n",
      "[LightGBM] [Warning] feature_fraction is set=0.2, colsample_bytree=1.0 will be ignored. Current value: feature_fraction=0.2\n",
      "[LightGBM] [Warning] bagging_fraction is set=0.75, subsample=1.0 will be ignored. Current value: bagging_fraction=0.75\n",
      "[LightGBM] [Warning] bagging_freq is set=5, subsample_freq=0 will be ignored. Current value: bagging_freq=5\n",
      "[LightGBM] [Warning] feature_fraction is set=0.2, colsample_bytree=1.0 will be ignored. Current value: feature_fraction=0.2\n",
      "[LightGBM] [Warning] bagging_fraction is set=0.75, subsample=1.0 will be ignored. Current value: bagging_fraction=0.75\n",
      "[LightGBM] [Warning] bagging_freq is set=5, subsample_freq=0 will be ignored. Current value: bagging_freq=5\n",
      "[LightGBM] [Warning] feature_fraction is set=0.2, colsample_bytree=1.0 will be ignored. Current value: feature_fraction=0.2\n",
      "[LightGBM] [Warning] bagging_fraction is set=0.75, subsample=1.0 will be ignored. Current value: bagging_fraction=0.75\n",
      "[LightGBM] [Warning] bagging_freq is set=5, subsample_freq=0 will be ignored. Current value: bagging_freq=5\n",
      "[LightGBM] [Warning] feature_fraction is set=0.2, colsample_bytree=1.0 will be ignored. Current value: feature_fraction=0.2\n",
      "[LightGBM] [Warning] bagging_fraction is set=0.75, subsample=1.0 will be ignored. Current value: bagging_fraction=0.75\n",
      "[LightGBM] [Warning] bagging_freq is set=5, subsample_freq=0 will be ignored. Current value: bagging_freq=5\n",
      "[LightGBM] [Warning] feature_fraction is set=0.2, colsample_bytree=1.0 will be ignored. Current value: feature_fraction=0.2\n",
      "[LightGBM] [Warning] bagging_fraction is set=0.75, subsample=1.0 will be ignored. Current value: bagging_fraction=0.75\n",
      "[LightGBM] [Warning] bagging_freq is set=5, subsample_freq=0 will be ignored. Current value: bagging_freq=5\n",
      "[LightGBM] [Warning] feature_fraction is set=0.2, colsample_bytree=1.0 will be ignored. Current value: feature_fraction=0.2\n",
      "[LightGBM] [Warning] bagging_fraction is set=0.75, subsample=1.0 will be ignored. Current value: bagging_fraction=0.75\n",
      "[LightGBM] [Warning] bagging_freq is set=5, subsample_freq=0 will be ignored. Current value: bagging_freq=5\n",
      "[LightGBM] [Warning] feature_fraction is set=0.2, colsample_bytree=1.0 will be ignored. Current value: feature_fraction=0.2\n",
      "[LightGBM] [Warning] bagging_fraction is set=0.75, subsample=1.0 will be ignored. Current value: bagging_fraction=0.75\n",
      "[LightGBM] [Warning] bagging_freq is set=5, subsample_freq=0 will be ignored. Current value: bagging_freq=5\n",
      "lightgbm: 0.1259 (0.0166)\n",
      " 2020-09-26 23:04:31.236824\n"
     ]
    }
   ],
   "source": [
    "score = cv_rmse(lightgbm)\n",
    "print(\"lightgbm: {:.4f} ({:.4f})\\n\".format(score.mean(), score.std()), datetime.now(), )\n"
   ]
  },
  {
   "cell_type": "code",
   "execution_count": 154,
   "metadata": {},
   "outputs": [
    {
     "name": "stdout",
     "output_type": "stream",
     "text": [
      "gbr: 0.1240 (0.0159)\n",
      " 2020-09-26 23:05:23.384815\n"
     ]
    }
   ],
   "source": [
    "score = cv_rmse(gbr)\n",
    "print(\"gbr: {:.4f} ({:.4f})\\n\".format(score.mean(), score.std()), datetime.now(), )"
   ]
  },
  {
   "cell_type": "code",
   "execution_count": 159,
   "metadata": {},
   "outputs": [
    {
     "name": "stdout",
     "output_type": "stream",
     "text": [
      "xgboost: 0.1225 (0.0198)\n",
      " 2020-09-26 23:06:58.900403\n"
     ]
    }
   ],
   "source": [
    "score = cv_rmse(xgboost)\n",
    "print(\"xgboost: {:.4f} ({:.4f})\\n\".format(score.mean(), score.std()), datetime.now(), )"
   ]
  },
  {
   "cell_type": "code",
   "execution_count": 188,
   "metadata": {},
   "outputs": [],
   "source": [
    "def blend_models_train(X, y):\n",
    "    stack_gen_model = stack_gen.fit(np.array(X), np.array(y))\n",
    "    ols_model = ols.fit(X, y)\n",
    "    elastic_model = elasticnet.fit(X, y)\n",
    "    lasso_model = lasso.fit(X, y)\n",
    "    ridge_model = ridge.fit(X, y)\n",
    "    svr_model = svr.fit(X, y)\n",
    "    gbr_model = gbr.fit(X, y)\n",
    "    xgb_model = xgboost.fit(X, y)\n",
    "    lgb_model = lightgbm.fit(X, y)\n",
    "    return stack_gen_model, ols_model, elastic_model, lasso_model, ridge_model, svr_model, gbr_model, xgb_model, lgb_model"
   ]
  },
  {
   "cell_type": "code",
   "execution_count": 189,
   "metadata": {},
   "outputs": [],
   "source": [
    "def blend_models_predict(y):\n",
    "    # Here, we are going to weigth each model based on their performance during the cross validation phase\n",
    "    return ((0.05 * elastic_model.predict(y)) + \\\n",
    "            (0.05 * lasso_model.predict(y)) + \\\n",
    "            (0.05 * ols_model.predict(y)) + \\\n",
    "            (0.1 * ridge_model.predict(y)) + \\\n",
    "            (0.1 * svr_model.predict(y)) + \\\n",
    "            (0.1 * gbr_model.predict(y)) + \\\n",
    "            (0.15 * xgb_model.predict(y)) + \\\n",
    "            (0.1 * lgb_model.predict(y)) + \\\n",
    "            (0.30 * stack_gen_model.predict(np.array(y))))"
   ]
  },
  {
   "cell_type": "markdown",
   "metadata": {},
   "source": [
    "## Using the reduced features. "
   ]
  },
  {
   "cell_type": "code",
   "execution_count": 190,
   "metadata": {},
   "outputs": [
    {
     "name": "stdout",
     "output_type": "stream",
     "text": [
      "[LightGBM] [Warning] feature_fraction is set=0.2, colsample_bytree=1.0 will be ignored. Current value: feature_fraction=0.2\n",
      "[LightGBM] [Warning] bagging_fraction is set=0.75, subsample=1.0 will be ignored. Current value: bagging_fraction=0.75\n",
      "[LightGBM] [Warning] bagging_freq is set=5, subsample_freq=0 will be ignored. Current value: bagging_freq=5\n",
      "[LightGBM] [Warning] feature_fraction is set=0.2, colsample_bytree=1.0 will be ignored. Current value: feature_fraction=0.2\n",
      "[LightGBM] [Warning] bagging_fraction is set=0.75, subsample=1.0 will be ignored. Current value: bagging_fraction=0.75\n",
      "[LightGBM] [Warning] bagging_freq is set=5, subsample_freq=0 will be ignored. Current value: bagging_freq=5\n",
      "[LightGBM] [Warning] feature_fraction is set=0.2, colsample_bytree=1.0 will be ignored. Current value: feature_fraction=0.2\n",
      "[LightGBM] [Warning] bagging_fraction is set=0.75, subsample=1.0 will be ignored. Current value: bagging_fraction=0.75\n",
      "[LightGBM] [Warning] bagging_freq is set=5, subsample_freq=0 will be ignored. Current value: bagging_freq=5\n",
      "[LightGBM] [Warning] feature_fraction is set=0.2, colsample_bytree=1.0 will be ignored. Current value: feature_fraction=0.2\n",
      "[LightGBM] [Warning] bagging_fraction is set=0.75, subsample=1.0 will be ignored. Current value: bagging_fraction=0.75\n",
      "[LightGBM] [Warning] bagging_freq is set=5, subsample_freq=0 will be ignored. Current value: bagging_freq=5\n",
      "[LightGBM] [Warning] feature_fraction is set=0.2, colsample_bytree=1.0 will be ignored. Current value: feature_fraction=0.2\n",
      "[LightGBM] [Warning] bagging_fraction is set=0.75, subsample=1.0 will be ignored. Current value: bagging_fraction=0.75\n",
      "[LightGBM] [Warning] bagging_freq is set=5, subsample_freq=0 will be ignored. Current value: bagging_freq=5\n",
      "[LightGBM] [Warning] feature_fraction is set=0.2, colsample_bytree=1.0 will be ignored. Current value: feature_fraction=0.2\n",
      "[LightGBM] [Warning] bagging_fraction is set=0.75, subsample=1.0 will be ignored. Current value: bagging_fraction=0.75\n",
      "[LightGBM] [Warning] bagging_freq is set=5, subsample_freq=0 will be ignored. Current value: bagging_freq=5\n"
     ]
    }
   ],
   "source": [
    "(stack_gen_model, ols_model, elastic_model, lasso_model, \n",
    " ridge_model, svr_model, gbr_model, xgb_model, lgb_model) = blend_models_train(X_train1, y_train)"
   ]
  },
  {
   "cell_type": "code",
   "execution_count": 191,
   "metadata": {},
   "outputs": [
    {
     "name": "stdout",
     "output_type": "stream",
     "text": [
      "RMSLE score on train data:\n",
      "0.12199268649690792\n"
     ]
    }
   ],
   "source": [
    "print('RMSLE score on train data:')\n",
    "print(rmsle(y_test, blend_models_predict(X_test1)))"
   ]
  },
  {
   "cell_type": "markdown",
   "metadata": {},
   "source": [
    "## Using all the features. "
   ]
  },
  {
   "cell_type": "code",
   "execution_count": 180,
   "metadata": {},
   "outputs": [],
   "source": [
    "from sklearn.svm import SVR\n",
    "from lightgbm import  LGBMRegressor\n",
    "from mlxtend.regressor import StackingCVRegressor\n",
    "\n",
    "kfolds = KFold(n_splits=10, shuffle=True, random_state=42)\n",
    "\n",
    "def rmsle(y_test, y_pred):\n",
    "    return np.sqrt(mean_squared_error(y_test, y_pred))\n",
    "\n",
    "def cv_rmse(model, X=X_train):\n",
    "    rmse = np.sqrt(-cross_val_score(model, X_train, y_train, scoring=\"neg_mean_squared_error\", cv=kfolds))\n",
    "    return (rmse)\n",
    "\n",
    "\n",
    "alphas_alt = [14.5, 14.6, 14.7, 14.8, 14.9, 15, 15.1, 15.2, 15.3, 15.4, 15.5, 16, 20, 30, 40, 50]\n",
    "alphas2 = [5e-05, 0.0001, 0.0002, 0.0003, 0.0004, 0.0005, 0.0006, 0.0007, 0.0008, 0.0009, 0.01]\n",
    "e_alphas = [0.0001, 0.0002, 0.0003, 0.0004, 0.0005, 0.0006, 0.0007]\n",
    "e_l1ratio = [0.8, 0.85, 0.9, 0.95, 0.99, 1]\n",
    "\n",
    "ols = make_pipeline(RobustScaler(), LinearRegression())\n",
    "ridge = make_pipeline(RobustScaler(), RidgeCV(alphas=alphas_alt, cv=kfolds))\n",
    "lasso = make_pipeline(RobustScaler(), LassoCV(max_iter=1e7, alphas=alphas2, random_state=42, cv=kfolds))\n",
    "elasticnet = make_pipeline(RobustScaler(), ElasticNetCV(max_iter=1e7, alphas=e_alphas, cv=kfolds, l1_ratio=e_l1ratio))                                \n",
    "svr = make_pipeline(RobustScaler(), SVR(C= 20, epsilon= 0.008, gamma=0.0003,))\n",
    "gbr = GradientBoostingRegressor(n_estimators=3000, learning_rate=0.05, max_depth=4, max_features='sqrt', \n",
    "                                min_samples_leaf=15, min_samples_split=10, loss='huber', random_state =42)  \n",
    "\n",
    "lightgbm = LGBMRegressor(objective='regression', \n",
    "                                       num_leaves=4,\n",
    "                                       learning_rate=0.01, \n",
    "                                       n_estimators=5000,\n",
    "                                       max_bin=200, \n",
    "                                       bagging_fraction=0.75,\n",
    "                                       bagging_freq=5, \n",
    "                                       bagging_seed=7,\n",
    "                                       feature_fraction=0.2,\n",
    "                                       feature_fraction_seed=7,\n",
    "                                       verbose=-1,\n",
    "                                       )\n",
    "xgboost = XGBRegressor(learning_rate=0.01,n_estimators=3460,\n",
    "                                     max_depth=3, min_child_weight=0,\n",
    "                                     gamma=0, subsample=0.7,\n",
    "                                     colsample_bytree=0.7,\n",
    "                                     objective='reg:linear', nthread=-1,\n",
    "                                     scale_pos_weight=1, seed=27,\n",
    "                                     reg_alpha=0.00006)\n",
    "\n",
    "stack_gen = StackingCVRegressor(regressors=(ols, ridge, lasso, elasticnet, gbr, xgboost, lightgbm),\n",
    "                                meta_regressor=xgboost,\n",
    "                                use_features_in_secondary=True)"
   ]
  },
  {
   "cell_type": "code",
   "execution_count": 181,
   "metadata": {},
   "outputs": [
    {
     "name": "stdout",
     "output_type": "stream",
     "text": [
      "[LightGBM] [Warning] feature_fraction is set=0.2, colsample_bytree=1.0 will be ignored. Current value: feature_fraction=0.2\n",
      "[LightGBM] [Warning] bagging_fraction is set=0.75, subsample=1.0 will be ignored. Current value: bagging_fraction=0.75\n",
      "[LightGBM] [Warning] bagging_freq is set=5, subsample_freq=0 will be ignored. Current value: bagging_freq=5\n",
      "[LightGBM] [Warning] feature_fraction is set=0.2, colsample_bytree=1.0 will be ignored. Current value: feature_fraction=0.2\n",
      "[LightGBM] [Warning] bagging_fraction is set=0.75, subsample=1.0 will be ignored. Current value: bagging_fraction=0.75\n",
      "[LightGBM] [Warning] bagging_freq is set=5, subsample_freq=0 will be ignored. Current value: bagging_freq=5\n",
      "[LightGBM] [Warning] feature_fraction is set=0.2, colsample_bytree=1.0 will be ignored. Current value: feature_fraction=0.2\n",
      "[LightGBM] [Warning] bagging_fraction is set=0.75, subsample=1.0 will be ignored. Current value: bagging_fraction=0.75\n",
      "[LightGBM] [Warning] bagging_freq is set=5, subsample_freq=0 will be ignored. Current value: bagging_freq=5\n",
      "[LightGBM] [Warning] feature_fraction is set=0.2, colsample_bytree=1.0 will be ignored. Current value: feature_fraction=0.2\n",
      "[LightGBM] [Warning] bagging_fraction is set=0.75, subsample=1.0 will be ignored. Current value: bagging_fraction=0.75\n",
      "[LightGBM] [Warning] bagging_freq is set=5, subsample_freq=0 will be ignored. Current value: bagging_freq=5\n",
      "[LightGBM] [Warning] feature_fraction is set=0.2, colsample_bytree=1.0 will be ignored. Current value: feature_fraction=0.2\n",
      "[LightGBM] [Warning] bagging_fraction is set=0.75, subsample=1.0 will be ignored. Current value: bagging_fraction=0.75\n",
      "[LightGBM] [Warning] bagging_freq is set=5, subsample_freq=0 will be ignored. Current value: bagging_freq=5\n",
      "[LightGBM] [Warning] feature_fraction is set=0.2, colsample_bytree=1.0 will be ignored. Current value: feature_fraction=0.2\n",
      "[LightGBM] [Warning] bagging_fraction is set=0.75, subsample=1.0 will be ignored. Current value: bagging_fraction=0.75\n",
      "[LightGBM] [Warning] bagging_freq is set=5, subsample_freq=0 will be ignored. Current value: bagging_freq=5\n"
     ]
    }
   ],
   "source": [
    "(stack_gen_model, ols_model, elastic_model, lasso_model, \n",
    " ridge_model, svr_model, gbr_model, xgb_model, lgb_model) = blend_models_train(X_train, y_train)"
   ]
  },
  {
   "cell_type": "code",
   "execution_count": 184,
   "metadata": {},
   "outputs": [
    {
     "name": "stdout",
     "output_type": "stream",
     "text": [
      "RMSLE score on train data:\n",
      "0.12260349980970268\n"
     ]
    }
   ],
   "source": [
    "print('RMSLE score on train data:')\n",
    "print(rmsle(y_test, blend_models_predict(X_test)))"
   ]
  },
  {
   "cell_type": "markdown",
   "metadata": {},
   "source": [
    "## Make Predictions and Submit "
   ]
  },
  {
   "cell_type": "code",
   "execution_count": 198,
   "metadata": {},
   "outputs": [],
   "source": [
    "# Make Prediction\n",
    "predictions = blend_models_predict(test_data[feature_kept])"
   ]
  },
  {
   "cell_type": "code",
   "execution_count": 201,
   "metadata": {},
   "outputs": [],
   "source": [
    "submission = pd.DataFrame()\n",
    "submission['Id'] = test_df['Id']\n",
    "submission['SalePrice'] = np.expm1(predictions)"
   ]
  },
  {
   "cell_type": "code",
   "execution_count": 202,
   "metadata": {},
   "outputs": [
    {
     "data": {
      "text/html": [
       "<div>\n",
       "<style scoped>\n",
       "    .dataframe tbody tr th:only-of-type {\n",
       "        vertical-align: middle;\n",
       "    }\n",
       "\n",
       "    .dataframe tbody tr th {\n",
       "        vertical-align: top;\n",
       "    }\n",
       "\n",
       "    .dataframe thead th {\n",
       "        text-align: right;\n",
       "    }\n",
       "</style>\n",
       "<table border=\"1\" class=\"dataframe\">\n",
       "  <thead>\n",
       "    <tr style=\"text-align: right;\">\n",
       "      <th></th>\n",
       "      <th>Id</th>\n",
       "      <th>SalePrice</th>\n",
       "    </tr>\n",
       "  </thead>\n",
       "  <tbody>\n",
       "    <tr>\n",
       "      <th>0</th>\n",
       "      <td>1461</td>\n",
       "      <td>125729.175784</td>\n",
       "    </tr>\n",
       "    <tr>\n",
       "      <th>1</th>\n",
       "      <td>1462</td>\n",
       "      <td>160650.578814</td>\n",
       "    </tr>\n",
       "    <tr>\n",
       "      <th>2</th>\n",
       "      <td>1463</td>\n",
       "      <td>189592.531168</td>\n",
       "    </tr>\n",
       "    <tr>\n",
       "      <th>3</th>\n",
       "      <td>1464</td>\n",
       "      <td>200040.687032</td>\n",
       "    </tr>\n",
       "    <tr>\n",
       "      <th>4</th>\n",
       "      <td>1465</td>\n",
       "      <td>186598.298786</td>\n",
       "    </tr>\n",
       "    <tr>\n",
       "      <th>...</th>\n",
       "      <td>...</td>\n",
       "      <td>...</td>\n",
       "    </tr>\n",
       "    <tr>\n",
       "      <th>1454</th>\n",
       "      <td>2915</td>\n",
       "      <td>88231.559493</td>\n",
       "    </tr>\n",
       "    <tr>\n",
       "      <th>1455</th>\n",
       "      <td>2916</td>\n",
       "      <td>86288.093899</td>\n",
       "    </tr>\n",
       "    <tr>\n",
       "      <th>1456</th>\n",
       "      <td>2917</td>\n",
       "      <td>148240.122382</td>\n",
       "    </tr>\n",
       "    <tr>\n",
       "      <th>1457</th>\n",
       "      <td>2918</td>\n",
       "      <td>111424.548553</td>\n",
       "    </tr>\n",
       "    <tr>\n",
       "      <th>1458</th>\n",
       "      <td>2919</td>\n",
       "      <td>224435.260477</td>\n",
       "    </tr>\n",
       "  </tbody>\n",
       "</table>\n",
       "<p>1459 rows × 2 columns</p>\n",
       "</div>"
      ],
      "text/plain": [
       "        Id      SalePrice\n",
       "0     1461  125729.175784\n",
       "1     1462  160650.578814\n",
       "2     1463  189592.531168\n",
       "3     1464  200040.687032\n",
       "4     1465  186598.298786\n",
       "...    ...            ...\n",
       "1454  2915   88231.559493\n",
       "1455  2916   86288.093899\n",
       "1456  2917  148240.122382\n",
       "1457  2918  111424.548553\n",
       "1458  2919  224435.260477\n",
       "\n",
       "[1459 rows x 2 columns]"
      ]
     },
     "execution_count": 202,
     "metadata": {},
     "output_type": "execute_result"
    }
   ],
   "source": [
    "submission"
   ]
  },
  {
   "cell_type": "code",
   "execution_count": 205,
   "metadata": {},
   "outputs": [],
   "source": [
    "submission.to_csv(\"data/submission.csv\", index=False)"
   ]
  },
  {
   "cell_type": "code",
   "execution_count": null,
   "metadata": {},
   "outputs": [],
   "source": []
  },
  {
   "cell_type": "markdown",
   "metadata": {},
   "source": [
    "## Using gridsearch to find the optimal number of features"
   ]
  },
  {
   "cell_type": "code",
   "execution_count": 183,
   "metadata": {
    "scrolled": false
   },
   "outputs": [
    {
     "name": "stdout",
     "output_type": "stream",
     "text": [
      "Best MAE: -0.152\n",
      "Best Config: {'sel__k': 95}\n",
      ">-0.166 with: {'sel__k': 29}\n",
      ">-0.166 with: {'sel__k': 30}\n",
      ">-0.166 with: {'sel__k': 31}\n",
      ">-0.166 with: {'sel__k': 32}\n",
      ">-0.165 with: {'sel__k': 33}\n",
      ">-0.165 with: {'sel__k': 34}\n",
      ">-0.165 with: {'sel__k': 35}\n",
      ">-0.164 with: {'sel__k': 36}\n",
      ">-0.163 with: {'sel__k': 37}\n",
      ">-0.163 with: {'sel__k': 38}\n",
      ">-0.162 with: {'sel__k': 39}\n",
      ">-0.162 with: {'sel__k': 40}\n",
      ">-0.162 with: {'sel__k': 41}\n",
      ">-0.161 with: {'sel__k': 42}\n",
      ">-0.161 with: {'sel__k': 43}\n",
      ">-0.161 with: {'sel__k': 44}\n",
      ">-0.162 with: {'sel__k': 45}\n",
      ">-0.161 with: {'sel__k': 46}\n",
      ">-0.161 with: {'sel__k': 47}\n",
      ">-0.161 with: {'sel__k': 48}\n",
      ">-0.160 with: {'sel__k': 49}\n",
      ">-0.160 with: {'sel__k': 50}\n",
      ">-0.158 with: {'sel__k': 51}\n",
      ">-0.158 with: {'sel__k': 52}\n",
      ">-0.156 with: {'sel__k': 53}\n",
      ">-0.156 with: {'sel__k': 54}\n",
      ">-0.155 with: {'sel__k': 55}\n",
      ">-0.156 with: {'sel__k': 56}\n",
      ">-0.155 with: {'sel__k': 57}\n",
      ">-0.156 with: {'sel__k': 58}\n",
      ">-0.155 with: {'sel__k': 59}\n",
      ">-0.157 with: {'sel__k': 60}\n",
      ">-0.156 with: {'sel__k': 61}\n",
      ">-0.156 with: {'sel__k': 62}\n",
      ">-0.156 with: {'sel__k': 63}\n",
      ">-0.157 with: {'sel__k': 64}\n",
      ">-0.156 with: {'sel__k': 65}\n",
      ">-0.155 with: {'sel__k': 66}\n",
      ">-0.155 with: {'sel__k': 67}\n",
      ">-0.157 with: {'sel__k': 68}\n",
      ">-0.158 with: {'sel__k': 69}\n",
      ">-0.157 with: {'sel__k': 70}\n",
      ">-0.156 with: {'sel__k': 71}\n",
      ">-0.156 with: {'sel__k': 72}\n",
      ">-0.155 with: {'sel__k': 73}\n",
      ">-0.155 with: {'sel__k': 74}\n",
      ">-0.154 with: {'sel__k': 75}\n",
      ">-0.154 with: {'sel__k': 76}\n",
      ">-0.154 with: {'sel__k': 77}\n",
      ">-0.154 with: {'sel__k': 78}\n",
      ">-0.154 with: {'sel__k': 79}\n",
      ">-0.154 with: {'sel__k': 80}\n",
      ">-0.154 with: {'sel__k': 81}\n",
      ">-0.154 with: {'sel__k': 82}\n",
      ">-0.155 with: {'sel__k': 83}\n",
      ">-0.154 with: {'sel__k': 84}\n",
      ">-0.154 with: {'sel__k': 85}\n",
      ">-0.154 with: {'sel__k': 86}\n",
      ">-0.154 with: {'sel__k': 87}\n",
      ">-0.154 with: {'sel__k': 88}\n",
      ">-0.153 with: {'sel__k': 89}\n",
      ">-0.153 with: {'sel__k': 90}\n",
      ">-0.154 with: {'sel__k': 91}\n",
      ">-0.153 with: {'sel__k': 92}\n",
      ">-0.153 with: {'sel__k': 93}\n",
      ">-0.153 with: {'sel__k': 94}\n",
      ">-0.152 with: {'sel__k': 95}\n",
      ">-0.153 with: {'sel__k': 96}\n",
      ">-0.154 with: {'sel__k': 97}\n",
      ">-0.153 with: {'sel__k': 98}\n",
      ">-0.153 with: {'sel__k': 99}\n",
      ">-0.152 with: {'sel__k': 100}\n",
      ">-0.153 with: {'sel__k': 101}\n",
      ">-0.153 with: {'sel__k': 102}\n",
      ">-0.154 with: {'sel__k': 103}\n",
      ">-0.153 with: {'sel__k': 104}\n",
      ">-0.153 with: {'sel__k': 105}\n",
      ">-0.156 with: {'sel__k': 106}\n",
      ">-0.166 with: {'sel__k': 107}\n",
      ">-0.154 with: {'sel__k': 108}\n",
      ">-0.157 with: {'sel__k': 109}\n",
      ">-0.183 with: {'sel__k': 110}\n",
      ">-0.164 with: {'sel__k': 111}\n",
      ">-0.175 with: {'sel__k': 112}\n",
      ">-0.170 with: {'sel__k': 113}\n",
      ">-0.201 with: {'sel__k': 114}\n",
      ">-0.179 with: {'sel__k': 115}\n",
      ">-0.176 with: {'sel__k': 116}\n",
      ">-0.171 with: {'sel__k': 117}\n",
      ">-0.197 with: {'sel__k': 118}\n",
      ">-0.168 with: {'sel__k': 119}\n",
      ">-0.190 with: {'sel__k': 120}\n",
      ">-0.197 with: {'sel__k': 121}\n",
      ">-0.169 with: {'sel__k': 122}\n",
      ">-0.176 with: {'sel__k': 123}\n",
      ">-0.189 with: {'sel__k': 124}\n",
      ">-0.208 with: {'sel__k': 125}\n",
      ">-0.206 with: {'sel__k': 126}\n",
      ">-0.205 with: {'sel__k': 127}\n",
      ">-0.206 with: {'sel__k': 128}\n",
      ">-0.206 with: {'sel__k': 129}\n"
     ]
    }
   ],
   "source": [
    "# define the evaluation method\n",
    "cv = RepeatedKFold(n_splits=10, n_repeats=3, random_state=1)\n",
    "# define the pipeline to evaluate\n",
    "model = LinearRegression()\n",
    "fs = SelectKBest(score_func=mutual_info_regression)\n",
    "pipeline = Pipeline(steps=[('sel',fs), ('lr', model)])\n",
    "# define the grid\n",
    "grid = dict()\n",
    "grid['sel__k'] = [i for i in range(X_train.shape[1]-100, X_train.shape[1]+1)]\n",
    "# define the grid search\n",
    "#search = GridSearchCV(pipeline, grid, scoring='neg_mean_squared_error', n_jobs=-1, cv=cv)\n",
    "search = GridSearchCV(pipeline, grid, scoring=rmse_score, n_jobs=-1, cv=cv)\n",
    "# perform the search\n",
    "results = search.fit(X_train, y_train)\n",
    "# summarize best\n",
    "print('Best MAE: %.3f' % results.best_score_)\n",
    "print('Best Config: %s' % results.best_params_)\n",
    "# summarize all\n",
    "means = results.cv_results_['mean_test_score']\n",
    "params = results.cv_results_['params']\n",
    "for mean, param in zip(means, params):\n",
    "    print(\">%.3f with: %r\" % (mean, param))"
   ]
  },
  {
   "cell_type": "code",
   "execution_count": null,
   "metadata": {},
   "outputs": [],
   "source": []
  }
 ],
 "metadata": {
  "kernelspec": {
   "display_name": "Environment (conda_anaconda3)",
   "language": "python",
   "name": "conda_anaconda3"
  },
  "language_info": {
   "codemirror_mode": {
    "name": "ipython",
    "version": 3
   },
   "file_extension": ".py",
   "mimetype": "text/x-python",
   "name": "python",
   "nbconvert_exporter": "python",
   "pygments_lexer": "ipython3",
   "version": "3.7.6"
  }
 },
 "nbformat": 4,
 "nbformat_minor": 4
}
